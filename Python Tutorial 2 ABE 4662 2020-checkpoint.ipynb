{
 "cells": [
  {
   "cell_type": "markdown",
   "metadata": {},
   "source": [
    " # <div align=\"center\">6.1 Computational Toolbox—Tools of the Trade: Python Tutorial 2  </div>\n",
    "\n",
    "## <div align=\"center\">(Shiftlet and Shiftlet, 2014) </div>\n",
    "\n",
    "  #### <div align=\"center\"> modified M.J. Correll 2020 (7/11/2020) </div>\n",
    "\n",
    "\n"
   ]
  },
  {
   "cell_type": "markdown",
   "metadata": {},
   "source": [
    "# TUTORIAL NUMPY BLUE WATERS PORTION"
   ]
  },
  {
   "cell_type": "markdown",
   "metadata": {},
   "source": [
    "# Assignment:  There are only a few QRQs in this tutorial for homework, a large portion is review and details of functions within NUMPY and MATPLOTLIB to get a better idea of how these packages work.\n",
    "\n",
    "\n",
    "\n",
    "This section goes over details  of the two packages.\n",
    "The SciPy Stack: Intro to NumPy and Matplotlib\n",
    "Blue Waters Petascale Institute 2018\n",
    "Lead author: Claire Kopenhafer, Michigan State University\n",
    "kopenhaf@msu.edu\n",
    "\n",
    "# Introduction\n",
    "\n",
    "This will be an interactive introduction to two very useful Python modules: NumPy and Matplotlib. These modules are part of these larger SciPy Stack software collection, which has been widely adopted by the scientific community. They are designed to emulate the functions and data structures found in Matlab.\n",
    "\n",
    "Questions for Homewor and to turn in are labeled QRQ. Please only turn in the QRQs with your name and not the entire notebook to ease grading.\n",
    "\n",
    "## Example\n",
    "\n",
    "#### QRQ 2 CREATE AN ARRAY with SHAPE (2,2,3)\n",
    "\n",
    "*answer here in code implemented\n",
    "*showing output after hitting run\n",
    "\n",
    "This Jupyter Notebook allows you to hit **SHIFT + ENTER** but warning learning sometimes is better if you actually type in the commands.\n",
    "\n",
    "Download this file :  YES ABE 4662 you can get this data\n",
    "~> wget https://www.dropbox.com/s/b9yew4s1abwic0q/sample_data.txt\n",
    "\n",
    "\n",
    "\n",
    "\n"
   ]
  },
  {
   "cell_type": "markdown",
   "metadata": {},
   "source": [
    "# NumPy \n",
    "# Part 1: Creation, Attributes, & Operations\n",
    "What we’ll cover:\n",
    "●\tWhat are NumPy ndarrays?\n",
    "\n",
    "●\tCreating ndarrays (all options)\n",
    "\n",
    "●\tLoading data into ndarrays (function docs)\n",
    "\n",
    "●\tNumPy math operations (all options)\n",
    "\n",
    "●\tSize and shape of ndarrays (more information)\n"
   ]
  },
  {
   "cell_type": "markdown",
   "metadata": {},
   "source": [
    "Let’s say you have a set of data points: 0.1, 0.7, 2.5, 2.5, 3.4, 4.0\n",
    "\n",
    "If you wanted to store these values in a native Python data structure, a list would be your best choice :\n",
    "\n",
    ">>> data_lst = [0.1, 0.7, 2.5, 2.5, 3.4, 4.0]\n",
    "\n"
   ]
  },
  {
   "cell_type": "markdown",
   "metadata": {},
   "source": [
    "We must include the NumPy module at the top of any Python script we want to use it in by importing. It is common practice to alias the module name as “np” in order to shorten the length of commands:"
   ]
  },
  {
   "cell_type": "code",
   "execution_count": 3,
   "metadata": {},
   "outputs": [
    {
     "data": {
      "text/plain": [
       "[0.1, 0.7, 2.5, 2.5, 3.4, 4.0]"
      ]
     },
     "execution_count": 3,
     "metadata": {},
     "output_type": "execute_result"
    }
   ],
   "source": [
    "import numpy as np\n",
    "\n",
    "data_lst = [0.1, 0.7, 2.5, 2.5, 3.4, 4.0]\n",
    "data_lst"
   ]
  },
  {
   "cell_type": "markdown",
   "metadata": {},
   "source": [
    "Here is some code that uses the index to print all the items in a list.   The variable i will take on all the values from 0 to 5 – all the possible index values – and then print the contents of the list at that index on each line.\n",
    "\n"
   ]
  },
  {
   "cell_type": "code",
   "execution_count": 4,
   "metadata": {},
   "outputs": [
    {
     "name": "stdout",
     "output_type": "stream",
     "text": [
      "0.1\n",
      "0.7\n",
      "2.5\n",
      "2.5\n",
      "3.4\n",
      "4.0\n"
     ]
    }
   ],
   "source": [
    "myLst = data_lst\n",
    "for i in range(len(myLst)):\n",
    "    print(myLst[i])"
   ]
  },
  {
   "cell_type": "markdown",
   "metadata": {},
   "source": [
    "now, lets append a data point to the end of myLst (like 12.0)"
   ]
  },
  {
   "cell_type": "code",
   "execution_count": 5,
   "metadata": {},
   "outputs": [
    {
     "name": "stdout",
     "output_type": "stream",
     "text": [
      "[0.1, 0.7, 2.5, 2.5, 3.4, 4.0, 12.0]\n"
     ]
    }
   ],
   "source": [
    "myLst.append(12.0)\n",
    "print(myLst)"
   ]
  },
  {
   "cell_type": "markdown",
   "metadata": {},
   "source": [
    "Pretend that, as part of your analysis, you must add a constant (let’s say 5) to each data point to data_lst. What is the best way to accomplish this, if your data is stored in a list? [use a for-loop to iterate over all data points, and add the constant to each] This is a straightforward task, especially since the operation we must perform (element-wise addition) is simple. \n"
   ]
  },
  {
   "cell_type": "code",
   "execution_count": 6,
   "metadata": {},
   "outputs": [
    {
     "data": {
      "text/plain": [
       "[5.1, 5.7, 7.5, 7.5, 8.4, 9.0, 17.0]"
      ]
     },
     "execution_count": 6,
     "metadata": {},
     "output_type": "execute_result"
    }
   ],
   "source": [
    "myLst_new = []\n",
    "for i in range(len(data_lst)):\n",
    "    myLst_new.append(data_lst[i] + 5)\n",
    "myLst_new"
   ]
  },
  {
   "cell_type": "markdown",
   "metadata": {},
   "source": [
    "Lists can have all sorts of itesm inlcuding ordered pairs.  We can create an example:\n",
    "    \n",
    "pointLst = [(1,2), (-1,3), (0,4)]\n",
    "    \n",
    "and call individual elements\n",
    "\n",
    "print(pointLst[1])\n",
    "\n",
    "print(pointLst[1][0])   \n",
    "\n",
    "The first print command is the ordered pair of the second point, note we start at zero\n",
    "\n",
    "The last command is the first coordinate of the second point"
   ]
  },
  {
   "cell_type": "code",
   "execution_count": 7,
   "metadata": {},
   "outputs": [],
   "source": [
    "pointLst = [(1,2), (-1,3), (0,4)]"
   ]
  },
  {
   "cell_type": "code",
   "execution_count": 8,
   "metadata": {},
   "outputs": [
    {
     "name": "stdout",
     "output_type": "stream",
     "text": [
      "(-1, 3)\n"
     ]
    }
   ],
   "source": [
    "print(pointLst[1])"
   ]
  },
  {
   "cell_type": "code",
   "execution_count": 9,
   "metadata": {},
   "outputs": [
    {
     "name": "stdout",
     "output_type": "stream",
     "text": [
      "-1\n"
     ]
    }
   ],
   "source": [
    "print(pointLst[1][0])"
   ]
  },
  {
   "cell_type": "code",
   "execution_count": null,
   "metadata": {},
   "outputs": [],
   "source": []
  },
  {
   "cell_type": "markdown",
   "metadata": {},
   "source": [
    "# QRQ1  to the pointLst above append the point (-2,-2),  Then write a loop to print out the first coordinate of each of the points"
   ]
  },
  {
   "cell_type": "code",
   "execution_count": 10,
   "metadata": {},
   "outputs": [
    {
     "name": "stdout",
     "output_type": "stream",
     "text": [
      "1\n",
      "-1\n",
      "0\n",
      "-2\n",
      "[(1, 2), (-1, 3), (0, 4), (-2, -2)]\n"
     ]
    }
   ],
   "source": [
    "pointLst.append((-2,-2))\n",
    "for i in range(len(pointLst)):\n",
    "    print(pointLst[i][0])\n",
    "print(pointLst)"
   ]
  },
  {
   "cell_type": "markdown",
   "metadata": {},
   "source": [
    "\n",
    "The NumPy module, however, introduces a new data structure that makes this and more complex tasks easier to write and includes under-the-hood optimizations. This data structure is the **ndarray** (where the “nd” refers to n-dimensional). Commonly they are also just referred to as arrays. Arrays are limited to a single data type (unlike lists), but this allows them to be allocated as continuous regions in memory like arrays in C.\n"
   ]
  },
  {
   "cell_type": "markdown",
   "metadata": {},
   "source": [
    "Notice that we have created our array from a list. The np.array() command accepts an array-like argument to convert to an ndarray (array-like means we can pass either a list or a tuple). Therefore, assuming we had originally defined data as a list, we could rewrite this command as\n",
    ">>> data = np.array(data_lst)\n",
    "\n"
   ]
  },
  {
   "cell_type": "code",
   "execution_count": 11,
   "metadata": {},
   "outputs": [
    {
     "data": {
      "text/plain": [
       "array([ 0.1,  0.7,  2.5,  2.5,  3.4,  4. , 12. ])"
      ]
     },
     "execution_count": 11,
     "metadata": {},
     "output_type": "execute_result"
    }
   ],
   "source": [
    "data = np.array(data_lst)\n",
    "data"
   ]
  },
  {
   "cell_type": "markdown",
   "metadata": {},
   "source": [
    "You are probably use to reading “=” in the mathematical sense, so this line might seem strange. In computer science, the “=” is actually the assignment operator: we are assigning the value on the right hand side (the ndarray created by np.array(data)) to the variable on the left hand side (data). This command will make the variable data go from referring to a list to referring to an ndarray. The list object is still in memory but no longer accessible, since we reassigned its variable. It will eventually be “garbage collected” by the Python runtime system."
   ]
  },
  {
   "cell_type": "code",
   "execution_count": 12,
   "metadata": {},
   "outputs": [
    {
     "data": {
      "text/plain": [
       "array([0.1, 0.7, 2.5, 2.5, 3.4, 4. ])"
      ]
     },
     "execution_count": 12,
     "metadata": {},
     "output_type": "execute_result"
    }
   ],
   "source": [
    "data = np.array([0.1, 0.7, 2.5, 2.5, 3.4, 4.0])\n",
    "data"
   ]
  },
  {
   "cell_type": "markdown",
   "metadata": {},
   "source": [
    "Now that we have our array, adding a constant value to it is as easy as\n",
    ">>> new_data = data+5\n"
   ]
  },
  {
   "cell_type": "code",
   "execution_count": 13,
   "metadata": {},
   "outputs": [
    {
     "data": {
      "text/plain": [
       "array([5.1, 5.7, 7.5, 7.5, 8.4, 9. ])"
      ]
     },
     "execution_count": 13,
     "metadata": {},
     "output_type": "execute_result"
    }
   ],
   "source": [
    "new_data = data+5\n",
    "new_data"
   ]
  },
  {
   "cell_type": "markdown",
   "metadata": {},
   "source": [
    "Note that you can still use a for-loop to iterate through the array and add the constant to each datum that way; however, this method doesn’t take advantage of NumPy’s optimizations for element-wise operations.\n",
    "\n",
    "The element-wise operations built into NumPy extend beyond addition. I’m sure you can guess the list includes subtraction, multiplication, and division; however, other common element-wise functions such as trigonometric functions and exponentials are also included:\n",
    "\n",
    " np.sin(data) \n",
    "\n",
    " np.power(data, 3) \n",
    "\n",
    " np.exp(data)\n",
    "________________________________________\n"
   ]
  },
  {
   "cell_type": "code",
   "execution_count": 14,
   "metadata": {},
   "outputs": [
    {
     "data": {
      "text/plain": [
       "array([ 0.09983342,  0.64421769,  0.59847214,  0.59847214, -0.2555411 ,\n",
       "       -0.7568025 ])"
      ]
     },
     "execution_count": 14,
     "metadata": {},
     "output_type": "execute_result"
    }
   ],
   "source": [
    "np.sin(data)"
   ]
  },
  {
   "cell_type": "code",
   "execution_count": 15,
   "metadata": {},
   "outputs": [
    {
     "data": {
      "text/plain": [
       "array([1.0000e-03, 3.4300e-01, 1.5625e+01, 1.5625e+01, 3.9304e+01,\n",
       "       6.4000e+01])"
      ]
     },
     "execution_count": 15,
     "metadata": {},
     "output_type": "execute_result"
    }
   ],
   "source": [
    "np.power(data, 3)"
   ]
  },
  {
   "cell_type": "code",
   "execution_count": 16,
   "metadata": {},
   "outputs": [
    {
     "data": {
      "text/plain": [
       "array([ 1.10517092,  2.01375271, 12.18249396, 12.18249396, 29.96410005,\n",
       "       54.59815003])"
      ]
     },
     "execution_count": 16,
     "metadata": {},
     "output_type": "execute_result"
    }
   ],
   "source": [
    "np.exp(data)"
   ]
  },
  {
   "cell_type": "markdown",
   "metadata": {},
   "source": [
    "NumPy arrays store information about their size and shape. Think about a list: how do you get the length of a list? You have to run len() on the list. For an ndarray, however, this information is stored as an attritbute:\n",
    ">>> data.size\n"
   ]
  },
  {
   "cell_type": "markdown",
   "metadata": {},
   "source": [
    "**Compare data.size and len(data). Are they the same? **[Yes; 6]\n",
    "\n"
   ]
  },
  {
   "cell_type": "code",
   "execution_count": 17,
   "metadata": {},
   "outputs": [
    {
     "data": {
      "text/plain": [
       "6"
      ]
     },
     "execution_count": 17,
     "metadata": {},
     "output_type": "execute_result"
    }
   ],
   "source": [
    "data.size"
   ]
  },
  {
   "cell_type": "code",
   "execution_count": 18,
   "metadata": {},
   "outputs": [
    {
     "data": {
      "text/plain": [
       "6"
      ]
     },
     "execution_count": 18,
     "metadata": {},
     "output_type": "execute_result"
    }
   ],
   "source": [
    "len(data)"
   ]
  },
  {
   "cell_type": "markdown",
   "metadata": {},
   "source": [
    "Why NumPy goes out of its way to store information about its size may not seem particularly obvious, so let’s look at another example. Let’s say we are looking at data on a 2D grid:"
   ]
  },
  {
   "cell_type": "markdown",
   "metadata": {},
   "source": [
    "We could store this data as a list of lists:"
   ]
  },
  {
   "cell_type": "code",
   "execution_count": 19,
   "metadata": {},
   "outputs": [
    {
     "data": {
      "text/plain": [
       "[[3, 4.1, 6], [1.5, 0.8, 7], [0, 2, 5.4]]"
      ]
     },
     "execution_count": 19,
     "metadata": {},
     "output_type": "execute_result"
    }
   ],
   "source": [
    "data2_lst = [[3, 4.1, 6], [1.5, 0.8, 7], [0, 2, 5.4]]\n",
    "data2_lst"
   ]
  },
  {
   "cell_type": "markdown",
   "metadata": {},
   "source": [
    "Or, better yet, use a list of lists to construct a (2D) ndarray:"
   ]
  },
  {
   "cell_type": "code",
   "execution_count": 20,
   "metadata": {},
   "outputs": [],
   "source": [
    "data2 = np.array([[3, 4.1, 6], [1.5, 0.8, 7], [0, 2, 5.4]])"
   ]
  },
  {
   "cell_type": "code",
   "execution_count": 21,
   "metadata": {},
   "outputs": [
    {
     "data": {
      "text/plain": [
       "9"
      ]
     },
     "execution_count": 21,
     "metadata": {},
     "output_type": "execute_result"
    }
   ],
   "source": [
    "data2.size"
   ]
  },
  {
   "cell_type": "code",
   "execution_count": 22,
   "metadata": {},
   "outputs": [
    {
     "data": {
      "text/plain": [
       "(3, 3)"
      ]
     },
     "execution_count": 22,
     "metadata": {},
     "output_type": "execute_result"
    }
   ],
   "source": [
    "shape=data2.shape\n",
    "shape"
   ]
  },
  {
   "cell_type": "markdown",
   "metadata": {},
   "source": [
    "What data type is the shape attribute? What is the difference between these three values?\n",
    "\n",
    "[The size is 9, the shape is the tuple (3, 3), and the length according to len() is 3. \n",
    "\n",
    "**The size** is the total number of values,\n",
    "\n",
    "**the shape** is the length of the array in each dimension, \n",
    "\n",
    "and **len()** gives only the length in the first dimension.] \n",
    "\n",
    "You can create an ndarray that has any number of dimensions; hence the name, n-dimensional array\n"
   ]
  },
  {
   "cell_type": "markdown",
   "metadata": {},
   "source": [
    "To create an array of ones, or an array of zeros, in any shape:"
   ]
  },
  {
   "cell_type": "code",
   "execution_count": 23,
   "metadata": {},
   "outputs": [
    {
     "data": {
      "text/plain": [
       "array([[1., 1., 1.],\n",
       "       [1., 1., 1.],\n",
       "       [1., 1., 1.]])"
      ]
     },
     "execution_count": 23,
     "metadata": {},
     "output_type": "execute_result"
    }
   ],
   "source": [
    "np.ones(shape)"
   ]
  },
  {
   "cell_type": "code",
   "execution_count": 24,
   "metadata": {},
   "outputs": [
    {
     "data": {
      "text/plain": [
       "array([[0., 0., 0.],\n",
       "       [0., 0., 0.],\n",
       "       [0., 0., 0.]])"
      ]
     },
     "execution_count": 24,
     "metadata": {},
     "output_type": "execute_result"
    }
   ],
   "source": [
    "np.zeros(shape)"
   ]
  },
  {
   "cell_type": "markdown",
   "metadata": {},
   "source": [
    "### np.arange(start, stop, step)"
   ]
  },
  {
   "cell_type": "markdown",
   "metadata": {},
   "source": [
    "The np.arange() function takes the same arguments as the built-in function range(), but instead of returning an iterator (or a list if you’re in Python2), np.arange() returns an ndarray:\n",
    "\n",
    "    **np.arange(start, stop, step)**\n",
    "\n",
    "    \n",
    "Play around with this function. Try integer, float, and negative steps.\n"
   ]
  },
  {
   "cell_type": "code",
   "execution_count": 25,
   "metadata": {},
   "outputs": [
    {
     "data": {
      "text/plain": [
       "array([ 2.  ,  2.75,  3.5 ,  4.25,  5.  ,  5.75,  6.5 ,  7.25,  8.  ,\n",
       "        8.75,  9.5 , 10.25, 11.  , 11.75, 12.5 , 13.25, 14.  , 14.75,\n",
       "       15.5 , 16.25, 17.  , 17.75, 18.5 , 19.25, 20.  , 20.75, 21.5 ,\n",
       "       22.25, 23.  , 23.75, 24.5 , 25.25, 26.  , 26.75, 27.5 , 28.25,\n",
       "       29.  , 29.75, 30.5 , 31.25, 32.  , 32.75, 33.5 , 34.25])"
      ]
     },
     "execution_count": 25,
     "metadata": {},
     "output_type": "execute_result"
    }
   ],
   "source": [
    "np.arange(2,35,0.75)"
   ]
  },
  {
   "cell_type": "code",
   "execution_count": 26,
   "metadata": {},
   "outputs": [
    {
     "data": {
      "text/plain": [
       "array([  2.  ,   1.25,   0.5 ,  -0.25,  -1.  ,  -1.75,  -2.5 ,  -3.25,\n",
       "        -4.  ,  -4.75,  -5.5 ,  -6.25,  -7.  ,  -7.75,  -8.5 ,  -9.25,\n",
       "       -10.  , -10.75, -11.5 , -12.25, -13.  , -13.75, -14.5 , -15.25,\n",
       "       -16.  , -16.75, -17.5 , -18.25, -19.  , -19.75, -20.5 , -21.25,\n",
       "       -22.  , -22.75, -23.5 , -24.25, -25.  , -25.75, -26.5 , -27.25,\n",
       "       -28.  , -28.75, -29.5 , -30.25, -31.  , -31.75, -32.5 , -33.25,\n",
       "       -34.  , -34.75])"
      ]
     },
     "execution_count": 26,
     "metadata": {},
     "output_type": "execute_result"
    }
   ],
   "source": [
    "np.arange(2,-35,-0.75)"
   ]
  },
  {
   "cell_type": "markdown",
   "metadata": {},
   "source": [
    "### np.linspace(start, stop, num)"
   ]
  },
  {
   "cell_type": "markdown",
   "metadata": {},
   "source": [
    "If you want to specify a number of points within a range instead of the size of the step, use the np.linspace() function:\n",
    "\n",
    "np.linspace(start, stop, num)\n",
    "\n",
    "The number of points, num, defaults to 50.\n"
   ]
  },
  {
   "cell_type": "code",
   "execution_count": 27,
   "metadata": {},
   "outputs": [
    {
     "data": {
      "text/plain": [
       "array([ 1.        ,  1.64285714,  2.28571429,  2.92857143,  3.57142857,\n",
       "        4.21428571,  4.85714286,  5.5       ,  6.14285714,  6.78571429,\n",
       "        7.42857143,  8.07142857,  8.71428571,  9.35714286, 10.        ])"
      ]
     },
     "execution_count": 27,
     "metadata": {},
     "output_type": "execute_result"
    }
   ],
   "source": [
    "np.linspace(1, 10, 15)"
   ]
  },
  {
   "cell_type": "markdown",
   "metadata": {},
   "source": [
    "# reshaping "
   ]
  },
  {
   "cell_type": "markdown",
   "metadata": {},
   "source": [
    "Both of these functions return a 1D ndarray. To make their output into a multidimensional array, use the either np.reshape() function or the reshape() method:\n",
    "\n",
    "rng = np.arange(2, 10, 2)\n",
    "\n",
    "new_rng = np.reshape(rng, (2,2))\n",
    "\n",
    "OR\n",
    "\n",
    "new_rng = rng.reshape((2,2))\n"
   ]
  },
  {
   "cell_type": "code",
   "execution_count": 28,
   "metadata": {},
   "outputs": [
    {
     "data": {
      "text/plain": [
       "array([2, 4, 6, 8])"
      ]
     },
     "execution_count": 28,
     "metadata": {},
     "output_type": "execute_result"
    }
   ],
   "source": [
    "rng = np.arange(2, 10, 2)\n",
    "rng"
   ]
  },
  {
   "cell_type": "code",
   "execution_count": 29,
   "metadata": {},
   "outputs": [
    {
     "data": {
      "text/plain": [
       "array([[2, 4],\n",
       "       [6, 8]])"
      ]
     },
     "execution_count": 29,
     "metadata": {},
     "output_type": "execute_result"
    }
   ],
   "source": [
    "new_rng = np.reshape(rng, (2,2))\n",
    "new_rng"
   ]
  },
  {
   "cell_type": "code",
   "execution_count": 30,
   "metadata": {},
   "outputs": [
    {
     "data": {
      "text/plain": [
       "array([[2, 4],\n",
       "       [6, 8]])"
      ]
     },
     "execution_count": 30,
     "metadata": {},
     "output_type": "execute_result"
    }
   ],
   "source": [
    "new_rng = rng.reshape((2,2))\n",
    "new_rng"
   ]
  },
  {
   "cell_type": "markdown",
   "metadata": {},
   "source": [
    "Notice that neither the function nor the method reshape the array “in place”; their output must be assigned to a variable to be saved. Print rng to see what I mean by “in place”; has rng changed?\n",
    "[No]\n",
    "\n"
   ]
  },
  {
   "cell_type": "code",
   "execution_count": 31,
   "metadata": {},
   "outputs": [
    {
     "name": "stdout",
     "output_type": "stream",
     "text": [
      "[2 4 6 8]\n"
     ]
    }
   ],
   "source": [
    "print(rng)"
   ]
  },
  {
   "cell_type": "markdown",
   "metadata": {},
   "source": [
    "You can also create an array of random numbers between 0 and 1 using NumPy’s random module:  \n",
    "More on this in later part of ABE 4662"
   ]
  },
  {
   "cell_type": "code",
   "execution_count": 32,
   "metadata": {},
   "outputs": [
    {
     "data": {
      "text/plain": [
       "array([[0.26358903, 0.29435542, 0.74804847],\n",
       "       [0.08939752, 0.89246869, 0.57075005],\n",
       "       [0.21193217, 0.57493109, 0.59338368]])"
      ]
     },
     "execution_count": 32,
     "metadata": {},
     "output_type": "execute_result"
    }
   ],
   "source": [
    "np.random.random(shape)"
   ]
  },
  {
   "cell_type": "markdown",
   "metadata": {},
   "source": [
    "The last thing we’ll discuss in this section is loading data from a text file using the np.genfromtxt() function. The only argument you have to provide is the name of the text file (as a string), but there are several other useful arguments:\n",
    "\n",
    "●\tcomments defines the character that indicates the start of a comment. It defaults to “#”.\n",
    "\n",
    "●\tdelimiter defines the string used to separate values. It defaults to whitespace of any kind.\n",
    "\n",
    "●\tskip_header and skip_footer skip a given number of lines at the beginning and end of the file, respectively.\n",
    "\n",
    "●\tusecols lets you specify which data columns to use. This is especially useful if not all of the columns are of the same data type (e.g., the first column is a string and the second is a number).\n",
    "\n",
    "●\tSetting unpack to True transposes the loaded data so you can easily save each column to its own variable; e.g.:\n",
    "x, y, z = np.genfromtxt(filename, unpack=True)\n"
   ]
  },
  {
   "cell_type": "markdown",
   "metadata": {},
   "source": [
    "# Part 2: Indexing & Booleans\n",
    "What we’ll cover:\n",
    "\n",
    "●\tIndexing and slicing multi-dimensional arrays (more information)\n",
    "\n",
    "●\tBoolean arrays (see above)\n",
    "\n",
    "●\tUsing arrays in conditional statements (function documentation any, all)\n",
    "\n",
    "Let’s go back to using our 2D data array. Because this array is small, we can use\n"
   ]
  },
  {
   "cell_type": "code",
   "execution_count": 33,
   "metadata": {},
   "outputs": [
    {
     "name": "stdout",
     "output_type": "stream",
     "text": [
      "[[3.  4.1 6. ]\n",
      " [1.5 0.8 7. ]\n",
      " [0.  2.  5.4]]\n"
     ]
    }
   ],
   "source": [
    "print(data2)"
   ]
  },
  {
   "cell_type": "markdown",
   "metadata": {},
   "source": [
    "Recall that the shape of this array was (3, 3). The first dimension (or, in Python counting, dimension 0) must correspond to the rows, while the second dimension (dimension 1) refers to the columns. This is only true for 2D ndarrays. If we had a 3D array, which you can think of like a stack of 2D slices, dimension 0 would be the slices, dimension 1 the rows, and dimension 2 the columns. This can make mentally visualizing ndarrays tricky, but it makes sense for Python and NumPy: if you think back to the list of lists (or in 3D, a list of list of lists), dimension 0 references the outermost pair of brackets.\n",
    "Construct a 3D array data3 with shape (2, 2, 3) and print it.\n"
   ]
  },
  {
   "cell_type": "markdown",
   "metadata": {},
   "source": [
    "# QRQ 2 CREATE AN ARRAY with SHAPE (2,2,3)"
   ]
  },
  {
   "cell_type": "markdown",
   "metadata": {},
   "source": [
    "Accessing data in multi-dimensional arrays is much easier with ndarrays than it is with lists of lists. If we had our 2D data stored as a list of lists and wanted to access the value 4.1, we would have to index the list like:\n",
    "\n",
    "\n",
    "data2_lst[0][1]\n",
    "\n",
    "\n",
    "This syntax works with ndarrays, but we can also use a simpler syntax:\n",
    "\n",
    "data2[0, 1]\n",
    "\n",
    "Just like with lists, we can specify ranges using “:”. This is called **“slicing”**. If I want to slice the entire second row, I can use:\n",
    "\n",
    "data2[1, :]\n"
   ]
  },
  {
   "cell_type": "code",
   "execution_count": 34,
   "metadata": {},
   "outputs": [
    {
     "data": {
      "text/plain": [
       "4.1"
      ]
     },
     "execution_count": 34,
     "metadata": {},
     "output_type": "execute_result"
    }
   ],
   "source": [
    "data2_lst[0][1]"
   ]
  },
  {
   "cell_type": "code",
   "execution_count": 35,
   "metadata": {},
   "outputs": [
    {
     "data": {
      "text/plain": [
       "4.1"
      ]
     },
     "execution_count": 35,
     "metadata": {},
     "output_type": "execute_result"
    }
   ],
   "source": [
    "data2[0, 1]"
   ]
  },
  {
   "cell_type": "code",
   "execution_count": 36,
   "metadata": {},
   "outputs": [
    {
     "data": {
      "text/plain": [
       "array([1.5, 0.8, 7. ])"
      ]
     },
     "execution_count": 36,
     "metadata": {},
     "output_type": "execute_result"
    }
   ],
   "source": [
    "data2[1, :]  #recall number 1 is the SECOND ROW -MATLAB NOT SO!!!!  WE ARE SLICING DATA NOW"
   ]
  },
  {
   "cell_type": "markdown",
   "metadata": {},
   "source": [
    "That is, I have asked Python to return all of the columns (dim 1) for the second row (dim 0).\n",
    "Try slicing data in many different ways. \n",
    "\n",
    "Can you isolate a row? Can you cut a square from the center of the array? Remember you can count backwards from the end of an array using negative numbers.\n"
   ]
  },
  {
   "cell_type": "markdown",
   "metadata": {},
   "source": [
    "We can also index ndarrays using an array of booleans! Let’s say I only cared about data which were integers. How could I extract these? First, we need to create a boolean ndarray:\n",
    "\n",
    "    \n",
    "is_int = data2%1 == 0\n",
    "\n",
    "\n",
    "The expression on the right side of the “=” returns an ndarray of booleans. Each boolean element tells us if each element in data is evenly divisible by 1 and therefore an integer. \n",
    "\n",
    "This boolean array is then assigned to the variable is_int.\n",
    "\n",
    "\n",
    "Print ints.\n"
   ]
  },
  {
   "cell_type": "code",
   "execution_count": 37,
   "metadata": {},
   "outputs": [
    {
     "name": "stdout",
     "output_type": "stream",
     "text": [
      "[[ True False  True]\n",
      " [False False  True]\n",
      " [ True  True False]]\n"
     ]
    }
   ],
   "source": [
    "is_int = data2%1 == 0 # BOOLEAN STUFF HERE\n",
    "print(is_int)"
   ]
  },
  {
   "cell_type": "markdown",
   "metadata": {},
   "source": [
    "We can then extract the integers from data:"
   ]
  },
  {
   "cell_type": "code",
   "execution_count": 38,
   "metadata": {},
   "outputs": [
    {
     "data": {
      "text/plain": [
       "array([3., 6., 7., 0., 2.])"
      ]
     },
     "execution_count": 38,
     "metadata": {},
     "output_type": "execute_result"
    }
   ],
   "source": [
    "ints = data2[is_int]  # extracting integers from the data (only integers)\n",
    "ints"
   ]
  },
  {
   "cell_type": "markdown",
   "metadata": {},
   "source": [
    "We can also do this all in one line:"
   ]
  },
  {
   "cell_type": "code",
   "execution_count": 39,
   "metadata": {},
   "outputs": [
    {
     "data": {
      "text/plain": [
       "array([3., 6., 7., 0., 2.])"
      ]
     },
     "execution_count": 39,
     "metadata": {},
     "output_type": "execute_result"
    }
   ],
   "source": [
    "ints = data2[ data2%1 == 0 ]  # do above in one line\n",
    "ints"
   ]
  },
  {
   "cell_type": "code",
   "execution_count": 40,
   "metadata": {},
   "outputs": [
    {
     "ename": "ValueError",
     "evalue": "The truth value of an array with more than one element is ambiguous. Use a.any() or a.all()",
     "output_type": "error",
     "traceback": [
      "\u001b[1;31m---------------------------------------------------------------------------\u001b[0m",
      "\u001b[1;31mValueError\u001b[0m                                Traceback (most recent call last)",
      "\u001b[1;32m<ipython-input-40-d0e5562291b4>\u001b[0m in \u001b[0;36m<module>\u001b[1;34m()\u001b[0m\n\u001b[0;32m      2\u001b[0m \u001b[1;33m\u001b[0m\u001b[0m\n\u001b[0;32m      3\u001b[0m \u001b[1;31m# Try running the following:\u001b[0m\u001b[1;33m\u001b[0m\u001b[1;33m\u001b[0m\u001b[0m\n\u001b[1;32m----> 4\u001b[1;33m \u001b[1;32mif\u001b[0m \u001b[0mdata2\u001b[0m\u001b[1;33m:\u001b[0m\u001b[1;33m\u001b[0m\u001b[0m\n\u001b[0m\u001b[0;32m      5\u001b[0m     \u001b[0mprint\u001b[0m\u001b[1;33m(\u001b[0m\u001b[1;34m'Array exists'\u001b[0m\u001b[1;33m)\u001b[0m\u001b[1;33m\u001b[0m\u001b[0m\n\u001b[0;32m      6\u001b[0m \u001b[1;33m\u001b[0m\u001b[0m\n",
      "\u001b[1;31mValueError\u001b[0m: The truth value of an array with more than one element is ambiguous. Use a.any() or a.all()"
     ]
    }
   ],
   "source": [
    "# Using ndarrays in logic expressions like data%1==0 returns another array. This means we have to be careful if we want to use an array in a conditional statement such as an “if” or “while”.\n",
    "\n",
    "# Try running the following:\n",
    "if data2:\n",
    "    print('Array exists')\n",
    "\n",
    "#What happens?\n"
   ]
  },
  {
   "cell_type": "code",
   "execution_count": 41,
   "metadata": {},
   "outputs": [
    {
     "ename": "ValueError",
     "evalue": "The truth value of an array with more than one element is ambiguous. Use a.any() or a.all()",
     "output_type": "error",
     "traceback": [
      "\u001b[1;31m---------------------------------------------------------------------------\u001b[0m",
      "\u001b[1;31mValueError\u001b[0m                                Traceback (most recent call last)",
      "\u001b[1;32m<ipython-input-41-ba853c07c1e5>\u001b[0m in \u001b[0;36m<module>\u001b[1;34m()\u001b[0m\n\u001b[1;32m----> 1\u001b[1;33m \u001b[1;32mif\u001b[0m \u001b[0mdata2\u001b[0m\u001b[1;33m:\u001b[0m\u001b[1;33m\u001b[0m\u001b[0m\n\u001b[0m\u001b[0;32m      2\u001b[0m      \u001b[0mprint\u001b[0m\u001b[1;33m(\u001b[0m\u001b[1;34m'Array exists'\u001b[0m\u001b[1;33m)\u001b[0m\u001b[1;33m\u001b[0m\u001b[0m\n",
      "\u001b[1;31mValueError\u001b[0m: The truth value of an array with more than one element is ambiguous. Use a.any() or a.all()"
     ]
    }
   ],
   "source": [
    "if data2:\n",
    "     print('Array exists')"
   ]
  },
  {
   "cell_type": "markdown",
   "metadata": {},
   "source": [
    "[Python throws the following ValueError: “The truth value of an array with more than one element is ambiguous. Use a.any() or a.all()”]\n",
    "\n",
    "We need to “collapse” our ndarray of booleans into a single boolean. The best way to do that depends on the situation: do we want the entire array to be in a certain state? Or does just one element need to be in a certain state? We can use the all() and any() methods, respectively:\n"
   ]
  },
  {
   "cell_type": "code",
   "execution_count": 42,
   "metadata": {},
   "outputs": [
    {
     "name": "stdout",
     "output_type": "stream",
     "text": [
      "Array has integers\n",
      "Array is only floats\n"
     ]
    }
   ],
   "source": [
    "if data2.any():\n",
    "     print('Array has integers')\n",
    "if not data2.all():\n",
    "     print('Array is only floats')\n"
   ]
  },
  {
   "cell_type": "code",
   "execution_count": 43,
   "metadata": {},
   "outputs": [
    {
     "name": "stdout",
     "output_type": "stream",
     "text": [
      "Array exists\n"
     ]
    }
   ],
   "source": [
    "if data2 is not None:\n",
    "     print('Array exists')"
   ]
  },
  {
   "cell_type": "markdown",
   "metadata": {},
   "source": [
    "## Boolean and If Statements "
   ]
  },
  {
   "cell_type": "markdown",
   "metadata": {},
   "source": [
    "As above we used some boolean variable that can be \"true\" or \"false\" below are some other examples:"
   ]
  },
  {
   "cell_type": "code",
   "execution_count": 44,
   "metadata": {},
   "outputs": [
    {
     "data": {
      "text/plain": [
       "True"
      ]
     },
     "execution_count": 44,
     "metadata": {},
     "output_type": "execute_result"
    }
   ],
   "source": [
    "a = 4\n",
    "b = 8/2\n",
    "a == b  # Check here if a is Equal to B"
   ]
  },
  {
   "cell_type": "code",
   "execution_count": 45,
   "metadata": {},
   "outputs": [
    {
     "data": {
      "text/plain": [
       "False"
      ]
     },
     "execution_count": 45,
     "metadata": {},
     "output_type": "execute_result"
    }
   ],
   "source": [
    "a != b # Check if a is NOT EQUAL to b"
   ]
  },
  {
   "cell_type": "code",
   "execution_count": 46,
   "metadata": {},
   "outputs": [
    {
     "data": {
      "text/plain": [
       "True"
      ]
     },
     "execution_count": 46,
     "metadata": {},
     "output_type": "execute_result"
    }
   ],
   "source": [
    "a >= b # check if a is bigger or equal to b"
   ]
  },
  {
   "cell_type": "code",
   "execution_count": 47,
   "metadata": {},
   "outputs": [
    {
     "data": {
      "text/plain": [
       "True"
      ]
     },
     "execution_count": 47,
     "metadata": {},
     "output_type": "execute_result"
    }
   ],
   "source": [
    "a < b+1 # check if a is strictly smaller than b + 1"
   ]
  },
  {
   "cell_type": "markdown",
   "metadata": {},
   "source": [
    "We can set the statement to be a variable itself:"
   ]
  },
  {
   "cell_type": "code",
   "execution_count": 48,
   "metadata": {},
   "outputs": [
    {
     "data": {
      "text/plain": [
       "True"
      ]
     },
     "execution_count": 48,
     "metadata": {},
     "output_type": "execute_result"
    }
   ],
   "source": [
    "statement = a == b\n",
    "statement"
   ]
  },
  {
   "cell_type": "markdown",
   "metadata": {},
   "source": [
    "Check out what the class the variable is:"
   ]
  },
  {
   "cell_type": "code",
   "execution_count": 49,
   "metadata": {},
   "outputs": [
    {
     "data": {
      "text/plain": [
       "bool"
      ]
     },
     "execution_count": 49,
     "metadata": {},
     "output_type": "execute_result"
    }
   ],
   "source": [
    "type(statement)"
   ]
  },
  {
   "cell_type": "markdown",
   "metadata": {},
   "source": [
    "We can carry out if else statments to see whether a boolean is True or False"
   ]
  },
  {
   "cell_type": "code",
   "execution_count": 50,
   "metadata": {},
   "outputs": [
    {
     "data": {
      "text/plain": [
       "3"
      ]
     },
     "execution_count": 50,
     "metadata": {},
     "output_type": "execute_result"
    }
   ],
   "source": [
    "n = 13\n",
    "if n<=5:\n",
    "    value = 1\n",
    "elif n % 2 == 0:  #Modulus(%)   Divides and returns the value of the remainder.\n",
    "    value = 2\n",
    "else:\n",
    "    value = 3\n",
    "value    "
   ]
  },
  {
   "cell_type": "markdown",
   "metadata": {},
   "source": [
    "# QRQ 3 Write an $if$ statement for the following situation and test several variables with y starting at 1 and x ranging from zero to 17:  If x + 3 is greater than 5 or y is less then x, add 1 to y; otherwise substract 1 from x."
   ]
  },
  {
   "cell_type": "code",
   "execution_count": 59,
   "metadata": {},
   "outputs": [
    {
     "name": "stdout",
     "output_type": "stream",
     "text": [
      "5 2\n"
     ]
    }
   ],
   "source": [
    "y=1\n",
    "#x = np.arange(0,18,1)\n",
    "x = 5\n",
    "\n",
    "if x + 3 > 5 or y < x:\n",
    "      y += 1  \n",
    "else: \n",
    "      x-1\n",
    "print(x,y)    "
   ]
  },
  {
   "cell_type": "code",
   "execution_count": 72,
   "metadata": {},
   "outputs": [
    {
     "name": "stdout",
     "output_type": "stream",
     "text": [
      "x y\n",
      "0 1\n",
      "1 1\n",
      "2 2\n",
      "3 3\n",
      "4 4\n",
      "5 5\n",
      "6 6\n",
      "7 7\n",
      "8 8\n",
      "9 9\n",
      "10 10\n",
      "11 11\n",
      "12 12\n",
      "13 13\n",
      "14 14\n",
      "15 15\n",
      "16 16\n",
      "17 17\n"
     ]
    }
   ],
   "source": [
    "#x = [0,1,2,3,4,6,7,8,9,10,11,12,13,14,15,16,17]\n",
    "x = [x for x in range(18)]\n",
    "y = 1\n",
    "print('x','y')\n",
    "for i in range(len(x)):\n",
    "    if x[i] + 3 > 5 or y < x[i]:\n",
    "          y += 1  \n",
    "    else: \n",
    "          x[i]-1\n",
    "    print(x[i],y)    "
   ]
  },
  {
   "cell_type": "code",
   "execution_count": 70,
   "metadata": {},
   "outputs": [
    {
     "data": {
      "text/plain": [
       "[0, 1, 2, 3, 4, 5, 6, 7, 8, 9, 10, 11, 12, 13, 14, 15, 16, 17]"
      ]
     },
     "execution_count": 70,
     "metadata": {},
     "output_type": "execute_result"
    }
   ],
   "source": [
    "x = [x for x in range(18)]\n",
    "x"
   ]
  },
  {
   "cell_type": "markdown",
   "metadata": {},
   "source": [
    "# PART 3 of NUMPY Copying Arrays"
   ]
  },
  {
   "cell_type": "markdown",
   "metadata": {},
   "source": [
    "\n",
    "What we’ll learn:\n",
    "●\tHow to copy arrays\n",
    "\n",
    "There is some subtlety with copying arrays that you should be aware of. Let’s execute the following code:\n",
    "\n",
    "a = np.arange(5)\n",
    "\n",
    "b = a\n",
    "\n",
    "print(a)\n",
    "\n",
    "print(b)\n",
    "\n",
    "b[0] = 5\n",
    "\n",
    "print(a)\n",
    "\n",
    "print(b)\n",
    "\n",
    "\n"
   ]
  },
  {
   "cell_type": "code",
   "execution_count": 75,
   "metadata": {},
   "outputs": [],
   "source": [
    "a = np.arange(5)  # makes an array from 0 to 4 inclusive copying arrays"
   ]
  },
  {
   "cell_type": "code",
   "execution_count": 76,
   "metadata": {},
   "outputs": [],
   "source": [
    "b = a"
   ]
  },
  {
   "cell_type": "code",
   "execution_count": 77,
   "metadata": {},
   "outputs": [
    {
     "data": {
      "text/plain": [
       "2114097182800"
      ]
     },
     "execution_count": 77,
     "metadata": {},
     "output_type": "execute_result"
    }
   ],
   "source": [
    "id(a)"
   ]
  },
  {
   "cell_type": "code",
   "execution_count": 78,
   "metadata": {},
   "outputs": [
    {
     "name": "stdout",
     "output_type": "stream",
     "text": [
      "[0 1 2 3 4]\n",
      "[0 1 2 3 4]\n"
     ]
    }
   ],
   "source": [
    "print(a)\n",
    "print(b)"
   ]
  },
  {
   "cell_type": "code",
   "execution_count": 79,
   "metadata": {},
   "outputs": [
    {
     "data": {
      "text/plain": [
       "2114097182800"
      ]
     },
     "execution_count": 79,
     "metadata": {},
     "output_type": "execute_result"
    }
   ],
   "source": [
    "id(b)"
   ]
  },
  {
   "cell_type": "code",
   "execution_count": 54,
   "metadata": {},
   "outputs": [
    {
     "name": "stdout",
     "output_type": "stream",
     "text": [
      "[5 1 2 3 4]\n",
      "[5 1 2 3 4]\n"
     ]
    }
   ],
   "source": [
    "b[0] = 5\n",
    "print(a)\n",
    "print(b) # we also change a in the output what !!!!"
   ]
  },
  {
   "cell_type": "markdown",
   "metadata": {},
   "source": [
    "What did you expect to happen? What actually happened?"
   ]
  },
  {
   "cell_type": "markdown",
   "metadata": {},
   "source": [
    "Placing a ndarry on the right hand side of an assignment operation returns a “view” of the array rather than a copy. This means the variables a and b refer to the same data.\n",
    "\n",
    "To get a copy of array a, we must explicitly ask for it:\n",
    "\n",
    "b = a.copy()\n",
    "\n",
    "b[1] = 5\n",
    "\n",
    "print(a)\n",
    "\n",
    "print(b)\n"
   ]
  },
  {
   "cell_type": "code",
   "execution_count": null,
   "metadata": {},
   "outputs": [],
   "source": [
    "b = a.copy()\n",
    "b[1] = 5\n",
    "print(a)\n",
    "print(b) #here we don't change a  see the number 5 in the second position in b"
   ]
  },
  {
   "cell_type": "markdown",
   "metadata": {},
   "source": [
    "# Part 4: Statistics & Linear Algebra"
   ]
  },
  {
   "cell_type": "markdown",
   "metadata": {},
   "source": [
    "What we’ll cover:\n",
    "    \n",
    "●\tBasic statistical functions (all options)\n",
    "\n",
    "●\tVector and matrix multiplication (function documentation)\n",
    "\n",
    "●\tTranspose\n",
    "\n",
    "●\tSome Linear Algebra operations (all options)\n",
    "\n",
    "\n",
    "NumPy provides several functions for calculating basic statistical information, as well as summing values in an array. We’ll first look at np.sum(), as it functions in a similar way to many other NumPy functions, both statistical and otherwise.\n",
    "\n",
    "If we just call\n",
    "\n",
    "np.sum(data2)\n",
    "\n",
    "we obtain the sum of all values in the array. \n"
   ]
  },
  {
   "cell_type": "code",
   "execution_count": 80,
   "metadata": {},
   "outputs": [
    {
     "data": {
      "text/plain": [
       "29.799999999999997"
      ]
     },
     "execution_count": 80,
     "metadata": {},
     "output_type": "execute_result"
    }
   ],
   "source": [
    "np.sum(data2)"
   ]
  },
  {
   "cell_type": "markdown",
   "metadata": {},
   "source": [
    "What if we want to find the sum of each column? Recall that, for a 2D ndarray, dimension 0 refers to the rows.\n",
    "\n",
    "We can think of summing each column as collapsing all of the rows into one.\n",
    "\n",
    "To accomplish this, we tell np.sum() we want to sum along the dimension 0::"
   ]
  },
  {
   "cell_type": "code",
   "execution_count": 85,
   "metadata": {},
   "outputs": [
    {
     "data": {
      "text/plain": [
       "array([[3. , 4.1, 6. ],\n",
       "       [1.5, 0.8, 7. ],\n",
       "       [0. , 2. , 5.4]])"
      ]
     },
     "execution_count": 85,
     "metadata": {},
     "output_type": "execute_result"
    }
   ],
   "source": [
    "data2"
   ]
  },
  {
   "cell_type": "code",
   "execution_count": 86,
   "metadata": {},
   "outputs": [
    {
     "data": {
      "text/plain": [
       "array([ 4.5,  6.9, 18.4])"
      ]
     },
     "execution_count": 86,
     "metadata": {},
     "output_type": "execute_result"
    }
   ],
   "source": [
    "np.sum(data2, 0)"
   ]
  },
  {
   "cell_type": "code",
   "execution_count": 83,
   "metadata": {},
   "outputs": [
    {
     "data": {
      "text/plain": [
       "array([13.1,  9.3,  7.4])"
      ]
     },
     "execution_count": 83,
     "metadata": {},
     "output_type": "execute_result"
    }
   ],
   "source": [
    ">>> np.sum(data2, 1) #sum along one dimension"
   ]
  },
  {
   "cell_type": "markdown",
   "metadata": {},
   "source": [
    "This same behavior (operate on the entire ndarray or just along one dimension) applies to many other functions:\n",
    "\n",
    "●\tnp.prod() multiplies array elements\n",
    "\n",
    "●\tnp.mean() calculates the arithmetic mean\n",
    "\n",
    "●\tnp.average() can give you a weighted average. If no weights are supplied, which is the default, it behaves just like np.mean()\n",
    "\n",
    "●\tnp.median()\n",
    "\n",
    "●\tnp.std() returns the standard deviation\n",
    "\n",
    "●\tnp.var() calculates the variance\n",
    "________________________________________\n"
   ]
  },
  {
   "cell_type": "markdown",
   "metadata": {},
   "source": [
    "NumPy also provides support for linear algebra operations. Thus far, we’ve been thinking about ndarrays as collections of data points, but we can also think of them as vectors and matrices.\n",
    "\n",
    "The dot() function will allow us to perform vector-vector, vector-matrix, and matrix-matrix multiplication. This function can be invoked as either np.dot(), or as method. Let’s first try it with 1D vectors (that is, a dot product), where multiplication is commutative:\n"
   ]
  },
  {
   "cell_type": "code",
   "execution_count": 91,
   "metadata": {},
   "outputs": [
    {
     "data": {
      "text/plain": [
       "32"
      ]
     },
     "execution_count": 91,
     "metadata": {},
     "output_type": "execute_result"
    }
   ],
   "source": [
    ">>> a = np.array([1,2,3])\n",
    ">>> b = np.array([4,5,6])\n",
    ">>> np.dot(a, b)"
   ]
  },
  {
   "cell_type": "code",
   "execution_count": 92,
   "metadata": {},
   "outputs": [
    {
     "data": {
      "text/plain": [
       "32"
      ]
     },
     "execution_count": 92,
     "metadata": {},
     "output_type": "execute_result"
    }
   ],
   "source": [
    ">>> np.dot(b, a)"
   ]
  },
  {
   "cell_type": "code",
   "execution_count": 93,
   "metadata": {},
   "outputs": [
    {
     "data": {
      "text/plain": [
       "32"
      ]
     },
     "execution_count": 93,
     "metadata": {},
     "output_type": "execute_result"
    }
   ],
   "source": [
    ">>> a.dot(b)\n"
   ]
  },
  {
   "cell_type": "code",
   "execution_count": 94,
   "metadata": {
    "scrolled": true
   },
   "outputs": [
    {
     "data": {
      "text/plain": [
       "32"
      ]
     },
     "execution_count": 94,
     "metadata": {},
     "output_type": "execute_result"
    }
   ],
   "source": [
    "\n",
    ">>> b.dot(a)\n"
   ]
  },
  {
   "cell_type": "markdown",
   "metadata": {},
   "source": [
    "For the case of vector-vector multiplication, we can also use np.vdot(). This function fails if you pass anything other than 1D arrays as arguments, and is slightly faster than dot() because np.vdot() is more specialized.\n",
    "\n",
    "When dot() is invoked as a method, as in the last two lines, the object to which the method is attached is on the left. For example, the vector-matrix multiplication below is only defined for A*a (the number of columns in the left term must equal the number of rows in the right term):\n"
   ]
  },
  {
   "cell_type": "code",
   "execution_count": 95,
   "metadata": {},
   "outputs": [
    {
     "ename": "ValueError",
     "evalue": "shapes (3,) and (2,3) not aligned: 3 (dim 0) != 2 (dim 0)",
     "output_type": "error",
     "traceback": [
      "\u001b[1;31m---------------------------------------------------------------------------\u001b[0m",
      "\u001b[1;31mValueError\u001b[0m                                Traceback (most recent call last)",
      "\u001b[1;32m<ipython-input-95-b42c27a90577>\u001b[0m in \u001b[0;36m<module>\u001b[1;34m()\u001b[0m\n\u001b[0;32m      2\u001b[0m \u001b[0mnp\u001b[0m\u001b[1;33m.\u001b[0m\u001b[0mdot\u001b[0m\u001b[1;33m(\u001b[0m\u001b[0mA\u001b[0m\u001b[1;33m,\u001b[0m\u001b[0ma\u001b[0m\u001b[1;33m)\u001b[0m\u001b[1;33m\u001b[0m\u001b[0m\n\u001b[0;32m      3\u001b[0m \u001b[0mA\u001b[0m\u001b[1;33m.\u001b[0m\u001b[0mdot\u001b[0m\u001b[1;33m(\u001b[0m\u001b[0ma\u001b[0m\u001b[1;33m)\u001b[0m\u001b[1;33m\u001b[0m\u001b[0m\n\u001b[1;32m----> 4\u001b[1;33m \u001b[0ma\u001b[0m\u001b[1;33m.\u001b[0m\u001b[0mdot\u001b[0m\u001b[1;33m(\u001b[0m\u001b[0mA\u001b[0m\u001b[1;33m)\u001b[0m\u001b[1;33m\u001b[0m\u001b[0m\n\u001b[0m",
      "\u001b[1;31mValueError\u001b[0m: shapes (3,) and (2,3) not aligned: 3 (dim 0) != 2 (dim 0)"
     ]
    }
   ],
   "source": [
    ">>> A = np.array([[1,2,3],[4,5,6]])\n",
    ">>> np.dot(A,a)\n",
    ">>> A.dot(a)\n",
    ">>> a.dot(A)\n"
   ]
  },
  {
   "cell_type": "markdown",
   "metadata": {},
   "source": [
    "For completeness, let’s try matrix-matrix multiplication. Let’s set matrix  is equal to the transpose of A, so we can see how to transpose an ndarray:"
   ]
  },
  {
   "cell_type": "code",
   "execution_count": 96,
   "metadata": {},
   "outputs": [
    {
     "data": {
      "text/plain": [
       "array([[ 9, 12, 15],\n",
       "       [19, 26, 33]])"
      ]
     },
     "execution_count": 96,
     "metadata": {},
     "output_type": "execute_result"
    }
   ],
   "source": [
    ">>> B = np.array([[1,2],[3,4]])\n",
    ">>> np.dot(B, A)\n",
    ">>> B.dot(A)\n",
    "#>>> A.dot(B)\n"
   ]
  },
  {
   "cell_type": "code",
   "execution_count": 97,
   "metadata": {},
   "outputs": [
    {
     "name": "stdout",
     "output_type": "stream",
     "text": [
      "[-4.   4.5]\n"
     ]
    }
   ],
   "source": [
    "#NumPy has a module within it called linalg that provides a wide variety of linear algebra functions. We can solve the equation Mx = b, where M is a matrix and b is a vector (defined above):\n",
    "\n",
    "\n",
    "M = np.array([[1,2],[3,4]])\n",
    "b = np.array([5,6])\n",
    "x = np.linalg.solve(M,b)\n",
    "print(x)\n"
   ]
  },
  {
   "cell_type": "code",
   "execution_count": 98,
   "metadata": {},
   "outputs": [
    {
     "name": "stdout",
     "output_type": "stream",
     "text": [
      "[[1.0000000e+00 4.4408921e-16]\n",
      " [0.0000000e+00 1.0000000e+00]]\n",
      "[[1.00000000e+00 1.11022302e-16]\n",
      " [0.00000000e+00 1.00000000e+00]]\n"
     ]
    }
   ],
   "source": [
    ">>> Minv = np.linalg.inv(M)\n",
    ">>> print(Minv.dot(M))\n",
    ">>> print(M.dot(Minv))\n",
    "\n"
   ]
  },
  {
   "cell_type": "code",
   "execution_count": 99,
   "metadata": {},
   "outputs": [
    {
     "name": "stdout",
     "output_type": "stream",
     "text": [
      "[ 0.30697009 -0.21062466]\n",
      "[ 0.30697009 -0.21062466]\n"
     ]
    }
   ],
   "source": [
    ">>> evals, evecs = np.linalg.eig(M)\n",
    "#Each column of evecs corresponds the eigenvalues in evals.\n",
    ">>> vec = evecs[:,0]\n",
    ">>> print(M.dot(vec))\n",
    ">>> print(evals[0]*vec)\n",
    "\n"
   ]
  },
  {
   "cell_type": "code",
   "execution_count": 100,
   "metadata": {},
   "outputs": [
    {
     "data": {
      "text/plain": [
       "7.0"
      ]
     },
     "execution_count": 100,
     "metadata": {},
     "output_type": "execute_result"
    }
   ],
   "source": [
    ">>> np.linalg.norm(M)\n",
    ">>> np.linalg.norm(M, ord=np.inf)\n"
   ]
  },
  {
   "cell_type": "markdown",
   "metadata": {},
   "source": [
    "# Matplotlib\n",
    "\n",
    "Matplotlib has two interfaces: an object-oriented interface, and a MATLAB-like interface. \n",
    "Both are provided by the pyplot module within Matplotlib"
   ]
  },
  {
   "cell_type": "code",
   "execution_count": 101,
   "metadata": {},
   "outputs": [],
   "source": [
    "import matplotlib.pyplot as plt"
   ]
  },
  {
   "cell_type": "markdown",
   "metadata": {},
   "source": [
    "Once we’ve set the backend, we can load the pyplot module from Matplotlib. Just like we did with NumPy, the pyplot module is commonly aliased as “plt”.\n",
    "\n",
    "The two key objects for plotting are the Figure and Axes objects:\n",
    "\n",
    "●\tA Figure object can host zero or more Axes.\n",
    "\n",
    "●\tAxes objects cannot exist without an associated Figure.\n",
    "\n",
    "Moreover, an Axes object has two (or three, if the plot is 3D) Axis objects. \n"
   ]
  },
  {
   "cell_type": "markdown",
   "metadata": {},
   "source": [
    "### Part 1: Line Plots\n",
    "What we’ll cover:\n",
    "\n",
    "●\tPlotting basic line plots (function docs)\n",
    "\n",
    "●\tMaking log-log and semi-log plots (function docs semilogx, semilogy, loglog)\n",
    "\n",
    "●\tCustomizing plot appearance (all options)\n",
    "\n",
    "●\tAdding common text elements (all options)\n",
    "\n",
    "●\tCommon axis modifications (function docs limits, grid)\n",
    "\n",
    "\n",
    "The easiest way to create a Figure and one or more Axes at once is to use\n",
    "\n",
    "fig, ax = plt.subplots(nrows, ncols)\n",
    "\n",
    "\n"
   ]
  },
  {
   "cell_type": "markdown",
   "metadata": {},
   "source": [
    "The parameters nrows and ncols default to 1, so no arguments are needed if you want a basic Figure with only one set of Axes.\n",
    "\n",
    "Let’s start with such a figure:"
   ]
  },
  {
   "cell_type": "code",
   "execution_count": 102,
   "metadata": {},
   "outputs": [
    {
     "data": {
      "image/png": "[encoded data removed]",
      "text/plain": [
       "<Figure size 432x288 with 1 Axes>"
      ]
     },
     "metadata": {},
     "output_type": "display_data"
    }
   ],
   "source": [
    "\n",
    "\n",
    "fig, axes = plt.subplots(1,1)  # one row, one subplot"
   ]
  },
  {
   "cell_type": "markdown",
   "metadata": {},
   "source": [
    "** What are some things you might want to add to this figure? ** [Some possibilities are below!]\n",
    "\n",
    "Axis labels: Set the axis label using axes.set_xlabel(“label”) or axes.set_ylabel(“label”)\n",
    "\n",
    "Axis limits: Set the axis limits using axes.set_xlim(left, right) and axes.set_ylim(bottom, top)\n",
    "\n",
    "Title: Add a title using axes.set_title(“Title”)\n",
    "\n",
    "It’s possible to display a grid behind our plots. To enable this, use axes.grid().\n",
    "\n",
    "Legend: We can create a legend using axes.legend([‘name1’, ‘name2’]), where the names are in the same order as our plot() calls. \n",
    "\n",
    "\n",
    "Alternatively, we could have assigned labels at the time we were plotting:\n",
    "\n",
    "axes.plot(x, y, label=’name1’)\n",
    "\n",
    "axes.plot(x, z, label=’name2’)\n",
    "\n",
    "axes.legend()\n",
    "\n",
    "If we assign labels in this way, we don’t have to remember the order of our plot() calls.\n",
    "\n"
   ]
  },
  {
   "cell_type": "code",
   "execution_count": 103,
   "metadata": {},
   "outputs": [
    {
     "data": {
      "text/plain": [
       "Text(0.5,1,'Hello ABE 4662')"
      ]
     },
     "execution_count": 103,
     "metadata": {},
     "output_type": "execute_result"
    },
    {
     "data": {
      "image/png": "[encoded data removed]",
      "text/plain": [
       "<Figure size 432x288 with 1 Axes>"
      ]
     },
     "metadata": {},
     "output_type": "display_data"
    }
   ],
   "source": [
    "fig, axes = plt.subplots(1,1)\n",
    "axes.set_xlabel('label X')\n",
    "axes.set_ylabel('label y')\n",
    "axes.set_title(\"Hello ABE 4662\", fontsize = 18)"
   ]
  },
  {
   "cell_type": "code",
   "execution_count": null,
   "metadata": {},
   "outputs": [],
   "source": []
  },
  {
   "cell_type": "markdown",
   "metadata": {},
   "source": [
    "We can make a basic line plot by calling \n",
    "\n",
    "axes.plot(x,y)\n",
    "where x and y are array-like objects. Matplotlib supports NumPy arrays, so let’s use what we learned above in NumPy Part 1 to plot a sine function from 0 to 2π. \n",
    "\n",
    "\n",
    "# QRQ 4 Create an array of 100 points over x ∈ [0, 2π), using **np.pi** for π. Then, find y = sin(x) and plot the result.  Include the axes labels (yaxes  \"Magnitude\" and x axes \"Time\" with a fontsize of 14 for each) \n",
    "\n",
    "\n"
   ]
  },
  {
   "cell_type": "markdown",
   "metadata": {},
   "source": [
    "Matplotlib has a default list of colors it will cycle through as we add lines to our plot; however, we can control the appearance ourselves. This is done using several optional keywords:\n",
    "\n",
    "\n",
    "●\t*linestyle* (or ls) can be written with words:\n",
    "\t‘solid’, ‘dashed’, ‘dashdot’, ‘dotted’, ‘none’\n",
    "    \n",
    "Or with symbols: ‘-’, ‘--’, ‘-.’, ‘:’, ‘ ‘ or ‘’\n",
    "\n",
    "●\t*linewidth* (or lw) is a float\n",
    "\n",
    "●\t*color* is a name like “purple”, or for common colors, just “b” for blue (“common” meaning RBG/CMYK colors)\n",
    "\n",
    "●\t*marker* is one of Matplotlib’s many markers. By default, no markers are set. We can have markers plotted with or without a line underneath\n",
    "\n",
    "\n",
    "There are many, many more options which you can find in the documentation.\n",
    "\n",
    "Reading through the options above, it may have occurred to you that if we set ls=’none’ and select a marker, we have created a scatter plot. There is a separate scatterplot method (scatter) that has some additional features we’ll use below, but setting a marker style and ls=’none’ will be useful when we work with the errorbar() method in Part 3.\n",
    "\n",
    "Sometimes you’ll want one or both of your axes to be log-scaled. In these instances, you can replace plot() with one of the following, which take the same arguments:\n",
    "\n",
    "●\taxes.semilogx()\n",
    "\n",
    "●\taxes.semilogy()\n",
    "\n",
    "●\taxes.loglog()\n",
    "\n",
    "You can save plots to file using:\n",
    ">>> fig.savefig(“image.png”)\n"
   ]
  },
  {
   "cell_type": "markdown",
   "metadata": {},
   "source": [
    "## Part 2: Scatter Plots & Colorbars\n",
    "What we’ll cover:\n",
    "\n",
    "●\tPlotting basic scatter plots (function docs)\n",
    "\n",
    "●\tConveying magnitude in a scatter plot (see above)\n",
    "\n",
    "●\tAdding a colorbar (function docs)\n",
    "\n"
   ]
  },
  {
   "cell_type": "code",
   "execution_count": 104,
   "metadata": {},
   "outputs": [],
   "source": [
    "#As example data:\n",
    "\n",
    "x_pos = [1, 3, 5, 7, 9, 15]\n",
    "y_pos = [2.5, 5.4, 7.2, 9.9, 12.2, 16.4]"
   ]
  },
  {
   "cell_type": "code",
   "execution_count": 105,
   "metadata": {},
   "outputs": [
    {
     "data": {
      "text/plain": [
       "<matplotlib.collections.PathCollection at 0x1ec3afa4978>"
      ]
     },
     "execution_count": 105,
     "metadata": {},
     "output_type": "execute_result"
    },
    {
     "data": {
      "image/png": "[encoded data removed]",
      "text/plain": [
       "<Figure size 432x288 with 1 Axes>"
      ]
     },
     "metadata": {},
     "output_type": "display_data"
    }
   ],
   "source": [
    "#We can plot a scatter plot of the clusters using scatter(). Let’s clear our axes and plot our scatter plot:\n",
    "fig, axes = plt.subplots(1,1)\n",
    "axes.clear()\n",
    "axes.scatter(x_pos,y_pos)\n"
   ]
  },
  {
   "cell_type": "markdown",
   "metadata": {},
   "source": [
    "Why might we use this command instead of \n",
    "\n",
    "axes.plot(x_pos, y_pos, ls=’none’, marker=’o’)?\n",
    "\n",
    "Well, the scatter() method has some additional features for making informative scatter plots.\n",
    "\n"
   ]
  },
  {
   "cell_type": "code",
   "execution_count": 107,
   "metadata": {},
   "outputs": [
    {
     "data": {
      "image/png": "[encoded data removed]",
      "text/plain": [
       "<Figure size 432x288 with 1 Axes>"
      ]
     },
     "metadata": {},
     "output_type": "display_data"
    }
   ],
   "source": [
    "\n",
    "N = 45\n",
    "x, y = np.random.rand(2, N)\n",
    "c = np.random.randint(1, 5, size=N)\n",
    "s = np.random.randint(10, 220, size=N)\n",
    "\n",
    "fig, axes = plt.subplots()\n",
    "\n",
    "scatter = axes.scatter(x, y, c=c, s=s)\n",
    "\n",
    "\n",
    "plt.show()"
   ]
  },
  {
   "cell_type": "code",
   "execution_count": null,
   "metadata": {},
   "outputs": [],
   "source": [
    "\n",
    "\n"
   ]
  },
  {
   "cell_type": "markdown",
   "metadata": {},
   "source": [
    "\n",
    "Now our scatter plot markers are colored, but we don’t quantitatively know what the colors mean. ...\n",
    "\n",
    "We should add a colorbar! To do this, we actually need to save the object returned by scatter to a variable:\n"
   ]
  },
  {
   "cell_type": "code",
   "execution_count": 108,
   "metadata": {},
   "outputs": [
    {
     "data": {
      "image/png": "[encoded data removed]",
      "text/plain": [
       "<Figure size 432x288 with 2 Axes>"
      ]
     },
     "metadata": {},
     "output_type": "display_data"
    }
   ],
   "source": [
    "\n",
    "axes.clear()\n",
    "N = 45\n",
    "x, y = np.random.rand(2, N)\n",
    "c = np.random.randint(1, 1005, size=N)\n",
    "s = np.random.randint(10, 220, size=N)\n",
    "\n",
    "fig, axes = plt.subplots()\n",
    "\n",
    "\n",
    "scat = axes.scatter(x, y, c=c)\n",
    "fig.colorbar(scat)\n",
    "plt.show()"
   ]
  },
  {
   "cell_type": "markdown",
   "metadata": {},
   "source": [
    "If we want logarithmic axes for our scatter plot, we have to toggle that on for each axis:\n",
    "\n",
    "axes.set_xscale(‘log’)\n",
    "\n",
    "axes.set_yscale(‘log’)\n",
    "\n",
    "This will also work for line plots, though the semi-log and log-log functions are more efficient.\n"
   ]
  },
  {
   "cell_type": "code",
   "execution_count": 109,
   "metadata": {},
   "outputs": [
    {
     "data": {
      "image/png": "[encoded data removed]",
      "text/plain": [
       "<Figure size 432x288 with 2 Axes>"
      ]
     },
     "metadata": {},
     "output_type": "display_data"
    }
   ],
   "source": [
    "fig, axes = plt.subplots()\n",
    "\n",
    "scat = axes.scatter(x, y, c=c)\n",
    "axes.set_yscale('log')\n",
    "fig.colorbar(scat)\n",
    "plt.show()"
   ]
  },
  {
   "cell_type": "code",
   "execution_count": 110,
   "metadata": {},
   "outputs": [
    {
     "data": {
      "text/plain": [
       "array([0.58580043, 0.7782774 , 0.86999709, 0.98833457, 0.75832874,\n",
       "       0.78002651, 0.57676607, 0.26838703, 0.14753774, 0.71427522,\n",
       "       0.23759355, 0.09121529, 0.08275639, 0.19452407, 0.5224292 ,\n",
       "       0.70962588, 0.75010352, 0.76385144, 0.98129069, 0.79638246,\n",
       "       0.35546973, 0.95465771, 0.13742149, 0.40304701, 0.58157488,\n",
       "       0.84867373, 0.54349469, 0.20514553, 0.52670878, 0.00639727,\n",
       "       0.06015859, 0.97709432, 0.20336728, 0.50184444, 0.64600474,\n",
       "       0.66483067, 0.23669181, 0.46412649, 0.08687861, 0.63876562,\n",
       "       0.64952984, 0.83586908, 0.91118163, 0.48551373, 0.28921263])"
      ]
     },
     "execution_count": 110,
     "metadata": {},
     "output_type": "execute_result"
    }
   ],
   "source": [
    "y"
   ]
  },
  {
   "cell_type": "markdown",
   "metadata": {},
   "source": [
    "### Creating a function, evaluating it and plotting with interpolation, meshing"
   ]
  },
  {
   "cell_type": "markdown",
   "metadata": {},
   "source": [
    "Often we want to create functions, in Python you use **def** with the function name and any variables needed to run it in parentheses also end with a colon: \n",
    "\n",
    "Then indented you can return something like the function to use\n",
    "\n",
    "def myFunction(input1,input2):\n",
    "\n",
    "    return (input1+input2)"
   ]
  },
  {
   "cell_type": "code",
   "execution_count": 111,
   "metadata": {},
   "outputs": [
    {
     "data": {
      "image/png": "[encoded data removed]",
      "text/plain": [
       "<Figure size 432x288 with 2 Axes>"
      ]
     },
     "metadata": {},
     "output_type": "display_data"
    }
   ],
   "source": [
    " \n",
    "# Mathematical function we need to plot\n",
    "def z_func(x, y):\n",
    "    return (1 - (x ** 2 + y ** 3)) * np.exp(-(x ** 2 + y ** 2) / 2)\n",
    "# Setting up input values\n",
    "x = np.arange(-3.0, 3.0, 0.1)\n",
    "y = np.arange(-3.0, 3.0, 0.1)\n",
    "X, Y = np.meshgrid(x, y)\n",
    " \n",
    "# Calculating the output and storing it in the array Z\n",
    "Z = z_func(X, Y)\n",
    " \n",
    "im = plt.imshow(Z, cmap=plt.cm.RdBu, extent=(-3, 3, 3, -3), interpolation='bilinear') #hint use help plt.cm.RdBu\n",
    " \n",
    "plt.colorbar(im);\n",
    " \n",
    "plt.title('$z=(1-x^2+y^3) e^{-(x^2+y^2)/2}$')\n",
    " \n",
    "plt.show()"
   ]
  },
  {
   "cell_type": "code",
   "execution_count": 50,
   "metadata": {},
   "outputs": [
    {
     "name": "stdout",
     "output_type": "stream",
     "text": [
      "Help on LinearSegmentedColormap in module matplotlib.colors object:\n",
      "\n",
      "class LinearSegmentedColormap(Colormap)\n",
      " |  Colormap objects based on lookup tables using linear segments.\n",
      " |  \n",
      " |  The lookup table is generated using linear interpolation for each\n",
      " |  primary color, with the 0-1 domain divided into any number of\n",
      " |  segments.\n",
      " |  \n",
      " |  Method resolution order:\n",
      " |      LinearSegmentedColormap\n",
      " |      Colormap\n",
      " |      builtins.object\n",
      " |  \n",
      " |  Methods defined here:\n",
      " |  \n",
      " |  __init__(self, name, segmentdata, N=256, gamma=1.0)\n",
      " |      Create color map from linear mapping segments\n",
      " |      \n",
      " |      segmentdata argument is a dictionary with a red, green and blue\n",
      " |      entries. Each entry should be a list of *x*, *y0*, *y1* tuples,\n",
      " |      forming rows in a table. Entries for alpha are optional.\n",
      " |      \n",
      " |      Example: suppose you want red to increase from 0 to 1 over\n",
      " |      the bottom half, green to do the same over the middle half,\n",
      " |      and blue over the top half.  Then you would use::\n",
      " |      \n",
      " |          cdict = {'red':   [(0.0,  0.0, 0.0),\n",
      " |                             (0.5,  1.0, 1.0),\n",
      " |                             (1.0,  1.0, 1.0)],\n",
      " |      \n",
      " |                   'green': [(0.0,  0.0, 0.0),\n",
      " |                             (0.25, 0.0, 0.0),\n",
      " |                             (0.75, 1.0, 1.0),\n",
      " |                             (1.0,  1.0, 1.0)],\n",
      " |      \n",
      " |                   'blue':  [(0.0,  0.0, 0.0),\n",
      " |                             (0.5,  0.0, 0.0),\n",
      " |                             (1.0,  1.0, 1.0)]}\n",
      " |      \n",
      " |      Each row in the table for a given color is a sequence of\n",
      " |      *x*, *y0*, *y1* tuples.  In each sequence, *x* must increase\n",
      " |      monotonically from 0 to 1.  For any input value *z* falling\n",
      " |      between *x[i]* and *x[i+1]*, the output value of a given color\n",
      " |      will be linearly interpolated between *y1[i]* and *y0[i+1]*::\n",
      " |      \n",
      " |          row i:   x  y0  y1\n",
      " |                         /\n",
      " |                        /\n",
      " |          row i+1: x  y0  y1\n",
      " |      \n",
      " |      Hence y0 in the first row and y1 in the last row are never used.\n",
      " |      \n",
      " |      \n",
      " |      .. seealso::\n",
      " |      \n",
      " |             :meth:`LinearSegmentedColormap.from_list`\n",
      " |             Static method; factory function for generating a\n",
      " |             smoothly-varying LinearSegmentedColormap.\n",
      " |      \n",
      " |             :func:`makeMappingArray`\n",
      " |             For information about making a mapping array.\n",
      " |  \n",
      " |  reversed(self, name=None)\n",
      " |      Make a reversed instance of the Colormap.\n",
      " |      \n",
      " |      Parameters\n",
      " |      ----------\n",
      " |      name : str, optional\n",
      " |          The name for the reversed colormap. If it's None the\n",
      " |          name will be the name of the parent colormap + \"_r\".\n",
      " |      \n",
      " |      Returns\n",
      " |      -------\n",
      " |      LinearSegmentedColormap\n",
      " |          The reversed colormap.\n",
      " |  \n",
      " |  set_gamma(self, gamma)\n",
      " |      Set a new gamma value and regenerate color map.\n",
      " |  \n",
      " |  ----------------------------------------------------------------------\n",
      " |  Static methods defined here:\n",
      " |  \n",
      " |  from_list(name, colors, N=256, gamma=1.0)\n",
      " |      Make a linear segmented colormap with *name* from a sequence\n",
      " |      of *colors* which evenly transitions from colors[0] at val=0\n",
      " |      to colors[-1] at val=1.  *N* is the number of rgb quantization\n",
      " |      levels.\n",
      " |      Alternatively, a list of (value, color) tuples can be given\n",
      " |      to divide the range unevenly.\n",
      " |  \n",
      " |  ----------------------------------------------------------------------\n",
      " |  Methods inherited from Colormap:\n",
      " |  \n",
      " |  __call__(self, X, alpha=None, bytes=False)\n",
      " |      Parameters\n",
      " |      ----------\n",
      " |      X : scalar, ndarray\n",
      " |          The data value(s) to convert to RGBA.\n",
      " |          For floats, X should be in the interval ``[0.0, 1.0]`` to\n",
      " |          return the RGBA values ``X*100`` percent along the Colormap line.\n",
      " |          For integers, X should be in the interval ``[0, Colormap.N)`` to\n",
      " |          return RGBA values *indexed* from the Colormap with index ``X``.\n",
      " |      alpha : float, None\n",
      " |          Alpha must be a scalar between 0 and 1, or None.\n",
      " |      bytes : bool\n",
      " |          If False (default), the returned RGBA values will be floats in the\n",
      " |          interval ``[0, 1]`` otherwise they will be uint8s in the interval\n",
      " |          ``[0, 255]``.\n",
      " |      \n",
      " |      Returns\n",
      " |      -------\n",
      " |      Tuple of RGBA values if X is scalar, otherwise an array of\n",
      " |      RGBA values with a shape of ``X.shape + (4, )``.\n",
      " |  \n",
      " |  __copy__(self)\n",
      " |      Create new object with the same class, update attributes\n",
      " |  \n",
      " |  is_gray(self)\n",
      " |  \n",
      " |  set_bad(self, color='k', alpha=None)\n",
      " |      Set color to be used for masked values.\n",
      " |  \n",
      " |  set_over(self, color='k', alpha=None)\n",
      " |      Set color to be used for high out-of-range values.\n",
      " |      Requires norm.clip = False\n",
      " |  \n",
      " |  set_under(self, color='k', alpha=None)\n",
      " |      Set color to be used for low out-of-range values.\n",
      " |      Requires norm.clip = False\n",
      " |  \n",
      " |  ----------------------------------------------------------------------\n",
      " |  Data descriptors inherited from Colormap:\n",
      " |  \n",
      " |  __dict__\n",
      " |      dictionary for instance variables (if defined)\n",
      " |  \n",
      " |  __weakref__\n",
      " |      list of weak references to the object (if defined)\n",
      "\n"
     ]
    }
   ],
   "source": [
    "help(plt.cm.RdBu)\n"
   ]
  },
  {
   "cell_type": "markdown",
   "metadata": {},
   "source": [
    "# QRQ 5  Using the code above, create a function of a circle, X^2 + Y^2 and plot that using the colormap"
   ]
  },
  {
   "cell_type": "markdown",
   "metadata": {},
   "source": [
    "# Appendix: Documentation & Other Useful Modules\n",
    "\n",
    "## NumPy:\n",
    "Full introduction: https://docs.scipy.org/doc/numpy/user/index.html\n",
    "Function reference: https://docs.scipy.org/doc/numpy/reference/index.html\n",
    "NumPy for MATLAB users: https://docs.scipy.org/doc/numpy/user/numpy-for-matlab-users.html\n",
    "Loading from data files: https://docs.scipy.org/doc/numpy-1.14.2/user/basics.io.genfromtxt.html\n",
    "\n",
    "## Matplotlib:\n",
    "Usage guide: https://matplotlib.org/tutorials/introductory/usage.html\n",
    "Tutorials: https://matplotlib.org/tutorials/index.html\n",
    "Examples: https://matplotlib.org/gallery/index.html\n",
    "Everything you can do with Axes objects: https://matplotlib.org/api/axes_api.html\n",
    "Pyplot (MATLAB-like) interface: https://matplotlib.org/tutorials/introductory/pyplot.html\n",
    "MATLAB-compatible functions: https://matplotlib.org/api/mlab_api.html\n",
    "Colormaps in Matplotlib: https://matplotlib.org/tutorials/colors/colormaps.html\n",
    "\n",
    "## SciPy Library:\n",
    "Contents: https://docs.scipy.org/doc/scipy-1.1.0/reference/tutorial/general.html\n",
    "Tutorial: https://docs.scipy.org/doc/scipy-1.1.0/reference/tutorial/index.html\n",
    "Function Reference: https://docs.scipy.org/doc/scipy-1.1.0/reference/#api-reference\n",
    "\n",
    "## Pandas:\n",
    "Overview: http://pandas.pydata.org/pandas-docs/stable/overview.html\n",
    "Quick Start guidel: http://pandas.pydata.org/pandas-docs/stable/10min.html\n",
    "Full tutorial: http://pandas.pydata.org/pandas-docs/stable/tutorials.html\n",
    "\n",
    "### Additional Resources:\n",
    "Anaconda Python Distribution: https://www.anaconda.com/distribution/\n",
    "NumFocus Open Source Scientific Computing: https://www.numfocus.org/sponsored-projects\n",
    "“Python for Data Analysis” Book: http://shop.oreilly.com/product/0636920050896.do\n",
    "\n",
    "\n",
    "\n"
   ]
  },
  {
   "cell_type": "code",
   "execution_count": 55,
   "metadata": {},
   "outputs": [
    {
     "data": {
      "text/plain": [
       "1"
      ]
     },
     "execution_count": 55,
     "metadata": {},
     "output_type": "execute_result"
    }
   ],
   "source": []
  },
  {
   "cell_type": "code",
   "execution_count": 56,
   "metadata": {},
   "outputs": [
    {
     "data": {
      "text/plain": [
       "10"
      ]
     },
     "execution_count": 56,
     "metadata": {},
     "output_type": "execute_result"
    }
   ],
   "source": [
    "10%12"
   ]
  },
  {
   "cell_type": "code",
   "execution_count": null,
   "metadata": {},
   "outputs": [],
   "source": []
  }
 ],
 "metadata": {
  "kernelspec": {
   "display_name": "Python 3",
   "language": "python",
   "name": "python3"
  },
  "language_info": {
   "codemirror_mode": {
    "name": "ipython",
    "version": 3
   },
   "file_extension": ".py",
   "mimetype": "text/x-python",
   "name": "python",
   "nbconvert_exporter": "python",
   "pygments_lexer": "ipython3",
   "version": "3.6.6"
  }
 },
 "nbformat": 4,
 "nbformat_minor": 2
}
